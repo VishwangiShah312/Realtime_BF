{
 "cells": [
  {
   "cell_type": "code",
   "execution_count": 15,
   "id": "1035da72",
   "metadata": {},
   "outputs": [],
   "source": [
    "from astropy import units as u\n",
    "from astropy.coordinates import SkyCoord\n",
    "import astropy.coordinates as astroc\n",
    "from astropy.time import Time\n",
    "from astropy.coordinates import GCRS\n",
    "from astropy.coordinates import FK5\n",
    "from astropy.coordinates import PrecessedGeocentric\n",
    "import astropy as ap\n",
    "from datetime import datetime\n",
    "import time"
   ]
  },
  {
   "cell_type": "code",
   "execution_count": 16,
   "id": "1ae6bca6",
   "metadata": {},
   "outputs": [],
   "source": [
    "#Function taken directly from CHIME-Pulsar-Timing/tracking-beam-scheduler/tbs/src/utilities/scheduler_utils.py\n",
    "def toYearFraction(date):\n",
    "    # returns the year plus the fraction of the year that has passed\n",
    "    def sinceEpoch(date):  # returns seconds since epoch\n",
    "        return time.mktime(date.timetuple())\n",
    "\n",
    "    s = sinceEpoch\n",
    "\n",
    "    year = date.year\n",
    "    startOfThisYear = datetime(year=year, month=1, day=1)\n",
    "    startOfNextYear = datetime(year=year + 1, month=1, day=1)\n",
    "\n",
    "    yearElapsed = s(date) - s(startOfThisYear)\n",
    "    yearDuration = s(startOfNextYear) - s(startOfThisYear)\n",
    "    fraction = yearElapsed / yearDuration\n",
    "\n",
    "    return date.year + fraction"
   ]
  },
  {
   "cell_type": "code",
   "execution_count": 17,
   "id": "ee69dbb8",
   "metadata": {},
   "outputs": [],
   "source": [
    "#Function taken directly from CHIME-Pulsar-Timing/tracking-beam-scheduler/tbs/src/utilities/scheduler_utils.py\n",
    "#Outputs the RA and DEC wrt the precessed equinox of the time of observation when ICRS J2000 coords are given as input.\n",
    "def j2000tonow(RAJD, DECJD, year):\n",
    "    # gets current coordinates when given j2000 coords\n",
    "    c_icrs = SkyCoord(\n",
    "        ra=float(RAJD) * u.degree, dec=float(DECJD) * u.degree, frame=\"icrs\"\n",
    "    )\n",
    "    c_fk5 = c_icrs.transform_to(\"fk5\")\n",
    "    c_fk5_now = c_fk5.transform_to(FK5(equinox=\"J\" + str(year)))\n",
    "    return c_fk5_now.ra.degree, c_fk5_now.dec.degree"
   ]
  },
  {
   "cell_type": "code",
   "execution_count": 18,
   "id": "364dd7f7",
   "metadata": {},
   "outputs": [
    {
     "name": "stdout",
     "output_type": "stream",
     "text": [
      "2021-02-18 03:36:41.449999\n",
      "83.95117280768928 22.027201530826435\n"
     ]
    }
   ],
   "source": [
    "#Get barycentric precessed coords and input them manually in the RTB code. \n",
    "unix_time = 1613619401.449999300\n",
    "dt = datetime.utcfromtimestamp(unix_time)\n",
    "print(dt)\n",
    "ra_pres, dec_pres = j2000tonow(83.63311446, 22.01448714, toYearFraction(dt))\n",
    "print(ra_pres, dec_pres)"
   ]
  },
  {
   "cell_type": "code",
   "execution_count": null,
   "id": "47c807c7",
   "metadata": {},
   "outputs": [],
   "source": []
  }
 ],
 "metadata": {
  "kernelspec": {
   "display_name": "Python 3",
   "language": "python",
   "name": "python3"
  },
  "language_info": {
   "codemirror_mode": {
    "name": "ipython",
    "version": 3
   },
   "file_extension": ".py",
   "mimetype": "text/x-python",
   "name": "python",
   "nbconvert_exporter": "python",
   "pygments_lexer": "ipython3",
   "version": "3.6.9"
  }
 },
 "nbformat": 4,
 "nbformat_minor": 5
}
